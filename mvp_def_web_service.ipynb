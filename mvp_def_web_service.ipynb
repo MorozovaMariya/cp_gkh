{
 "cells": [
  {
   "cell_type": "code",
   "execution_count": 15,
   "metadata": {},
   "outputs": [],
   "source": [
    "import pandas as pd\n",
    "import numpy as np\n",
    "from matplotlib import pyplot as plt\n",
    "%matplotlib inline\n",
    "from pylab import rcParams\n",
    "rcParams['figure.figsize'] = 20, 8\n",
    "import warnings\n",
    "warnings.simplefilter('ignore')\n",
    "from sklearn.svm import LinearSVC\n",
    "import numpy as np\n",
    "from matplotlib import pyplot as plt\n",
    "%matplotlib inline\n",
    "from pylab import rcParams\n",
    "rcParams['figure.figsize'] = 20, 8\n",
    "import warnings\n",
    "warnings.simplefilter('ignore')\n",
    "from sklearn.svm import LinearSVC\n",
    "from sklearn.feature_extraction.text import TfidfVectorizer\n",
    "from nltk.corpus import stopwords\n",
    "df = pd.read_csv('data_full.csv', header = 0, sep = ',')\n",
    "\n",
    " # Переведем категориальную переменную в числа:\n",
    "df['category_id'] = df['category'].factorize()[0]\n",
    "df1 =pd.Index(df[\"category\"]).value_counts()\n",
    "df_category = pd.DataFrame(df1)\n",
    "\n",
    "def predictmodel(question):\n",
    "     # добавляем новую строку с запросом\n",
    "    df_temp = {'category': None, 'text':question, 'category_id': None}\n",
    "    numberOfRows = len(df)+1\n",
    "    df_for_question_full = df\n",
    "    df_for_question = pd.DataFrame(index=np.arange(numberOfRows, numberOfRows+1), data = df_temp, columns=('category','executor','id','text','theme','theme_id','category_id','executor_id') )\n",
    "    df_for_question_full = pd.concat([df_for_question_full, df_for_question])\n",
    "    # Векторизация текста\n",
    "\n",
    "    stopWords = stopwords.words('russian')\n",
    "    tfidf = TfidfVectorizer(sublinear_tf=True, min_df=3, norm='l2', encoding='utf-8', ngram_range=(1, 2), stop_words=stopWords)\n",
    "    features = tfidf.fit_transform(df_for_question_full.text).toarray()\n",
    "    labels = df.category_id\n",
    "    features_for_predict = features[numberOfRows-1:numberOfRows,::]\n",
    "    features_for_model = features[0:numberOfRows-1,::] #Все строки кроме последней\n",
    "    category_id_df = df[['category', 'category_id']].drop_duplicates().sort_values('category_id')\n",
    "    #Обучение модели и предсказание\n",
    "    model = LinearSVC()\n",
    "    X_train = features_for_model\n",
    "    y_train = labels\n",
    "    model.fit(X_train, y_train)\n",
    "    answer = model.predict(features_for_predict)[0]\n",
    "    return answer\n",
    "  "
   ]
  },
  {
   "cell_type": "code",
   "execution_count": null,
   "metadata": {},
   "outputs": [
    {
     "name": "stderr",
     "output_type": "stream",
     "text": [
      " * Running on http://192.168.137.146:4000/ (Press CTRL+C to quit)\n",
      "192.168.137.1 - - [07/Jul/2019 15:16:51] \"POST / HTTP/1.1\" 200 -\n"
     ]
    },
    {
     "name": "stdout",
     "output_type": "stream",
     "text": [
      "u'\\ufffd\\ufffd\\ufffd \\ufffd\\ufffd\\ufffd\\ufffd \\ufffd\\ufffd\\ufffd\\ufffd\\ufffd\\ufffd \\ufffd \\ufffd\\ufffd\\ufffd?'\n"
     ]
    },
    {
     "name": "stderr",
     "output_type": "stream",
     "text": [
      "192.168.137.1 - - [07/Jul/2019 15:18:27] \"GET /favicon.ico HTTP/1.1\" 200 -\n"
     ]
    },
    {
     "name": "stdout",
     "output_type": "stream",
     "text": [
      "u''\n"
     ]
    },
    {
     "name": "stderr",
     "output_type": "stream",
     "text": [
      "192.168.137.1 - - [07/Jul/2019 15:21:04] \"POST / HTTP/1.1\" 200 -\n"
     ]
    },
    {
     "name": "stdout",
     "output_type": "stream",
     "text": [
      "u'\\u043d\\u0435\\u0442 \\u0432\\u043e\\u0434\\u044b \\u0441\\u043e\\u0432\\u0441\\u0435\\u043c \\u0443 \\u043d\\u0430\\u0441?'\n"
     ]
    }
   ],
   "source": [
    "from werkzeug.wrappers import Request, Response\n",
    "import pprint\n",
    "\n",
    "pp = pprint.PrettyPrinter(indent=4)\n",
    "\n",
    "@Request.application\n",
    "def application(request):\n",
    "    #print request\n",
    "    q = request.get_data(False, True, False)\n",
    "    pp.pprint(q)\n",
    "    a = predictmodel(q)\n",
    "    return Response(str(a))\n",
    "\n",
    "if __name__ == '__main__':\n",
    "    from werkzeug.serving import run_simple\n",
    "    run_simple('192.168.137.146', 4000, application)"
   ]
  },
  {
   "cell_type": "code",
   "execution_count": null,
   "metadata": {},
   "outputs": [],
   "source": [
    "#question = \"Подскажите по отключению горячей воды\"\n",
    "#question = \"Тульская 6А - 13. В мае 18 года начался ремонт балконов. Подошла к ГЛАВНОМУ- сверху крошится потолок. Все лето слышала ответ, чтобы попасть на застекленный мой балкон, надо снять окна и заплатить. Я не согласилась. Успокоилась, сделала ремонт. 4.02.19 пришли по поводу ремонта балкона. Почему мне все лето отказывали в ремонте, хотя я все лето просила их, почему летом никто не делал внутри балкон?\"\n",
    "#question = \"У остановочного павильона повреждена крыша\"\n",
    "#question = \"У нас нет воды! Никакой!\"\n",
    "#question = \"Образовалась выбоина, яма на на тротуаре Не удовлетворительное состояние тротуаров: тротуарная плитка местами отсутствует; местами сломана и просто болтается!\"\n",
    "#predictmodel(question)"
   ]
  },
  {
   "cell_type": "markdown",
   "metadata": {},
   "source": [
    "0\tНарушение правил содержания стройплощадок\n",
    "\n",
    "1\tКапитальный ремонт многоквартирного дома\n",
    "\n",
    "2\tАвтомобиль припаркован на газоне\n",
    "\n",
    "3\tОстановки общественного транспорта\n",
    "\n",
    "4\tБлагоустройство дворовой территории\n",
    "\n",
    "5\tПарки и скверы\n",
    "\n",
    "6\tТекущее содержание дворовой территории\n",
    "\n",
    "7\tТекущее содержание дорог и ремонт\n",
    "\n",
    "8\tОтсутствует водоснабжение\n",
    "\n",
    "\n",
    "\n"
   ]
  },
  {
   "cell_type": "code",
   "execution_count": null,
   "metadata": {},
   "outputs": [],
   "source": []
  }
 ],
 "metadata": {
  "kernelspec": {
   "display_name": "Python 2",
   "language": "python",
   "name": "python2"
  },
  "language_info": {
   "codemirror_mode": {
    "name": "ipython",
    "version": 2
   },
   "file_extension": ".py",
   "mimetype": "text/x-python",
   "name": "python",
   "nbconvert_exporter": "python",
   "pygments_lexer": "ipython2",
   "version": "2.7.15"
  }
 },
 "nbformat": 4,
 "nbformat_minor": 2
}
